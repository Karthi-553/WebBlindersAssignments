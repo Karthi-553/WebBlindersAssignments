{
  "nbformat": 4,
  "nbformat_minor": 0,
  "metadata": {
    "colab": {
      "provenance": [],
      "toc_visible": true
    },
    "kernelspec": {
      "name": "python3",
      "display_name": "Python 3"
    },
    "language_info": {
      "name": "python"
    }
  },
  "cells": [
    {
      "cell_type": "markdown",
      "source": [
        "## Strings Assignment 2"
      ],
      "metadata": {
        "id": "EPGLodluvWuN"
      }
    },
    {
      "cell_type": "markdown",
      "source": [
        "1.Write a Python program to reverse a string.\n",
        "\n",
        "input : hellohowareyoudoingandhowisyourhealth"
      ],
      "metadata": {
        "id": "ddM5gMtivkoi"
      }
    },
    {
      "cell_type": "code",
      "source": [
        "# write your code here\n",
        "# str = input()\n",
        "# print(str[::-1])\n",
        "str = \"hellohowareyoudoingandhowisyourhealth\"\n",
        "print(str[::-1])"
      ],
      "metadata": {
        "id": "RnP576ZZvtLH",
        "colab": {
          "base_uri": "https://localhost:8080/"
        },
        "outputId": "e7989db3-9f60-4da2-854c-9015324473a0"
      },
      "execution_count": null,
      "outputs": [
        {
          "output_type": "stream",
          "name": "stdout",
          "text": [
            "htlaehruoysiwohdnagnioduoyerawoholleh\n"
          ]
        }
      ]
    },
    {
      "cell_type": "markdown",
      "source": [
        "2.Write a Python program to capitalize the first letter of each word in a sentence.\n",
        "\n",
        "input : hello welcome to internship"
      ],
      "metadata": {
        "id": "jEVFoo3evnhr"
      }
    },
    {
      "cell_type": "code",
      "source": [
        "# write your code here\n",
        "str = \"hello welcome to internship\"\n",
        "print(str.title())"
      ],
      "metadata": {
        "id": "CTP3QwiGwT93",
        "colab": {
          "base_uri": "https://localhost:8080/"
        },
        "outputId": "6790880f-cbe6-42d7-eceb-58c74bfbf2d0"
      },
      "execution_count": null,
      "outputs": [
        {
          "output_type": "stream",
          "name": "stdout",
          "text": [
            "Hello Welcome To Internship\n"
          ]
        }
      ]
    },
    {
      "cell_type": "markdown",
      "source": [
        "3.Write a Python program to find the longest word in a sentence.\n",
        "\n",
        "input : \"he is very good at painting and paint good sketches\""
      ],
      "metadata": {
        "id": "LiGvyCoVvnyC"
      }
    },
    {
      "cell_type": "code",
      "source": [
        "# write your code here\n",
        "str = \"he is very good at painting and paint good sketches\"\n",
        "for item in str.split():\n",
        "    if len(item) == max(len(word) for word in str.split()):\n",
        "        print(item)"
      ],
      "metadata": {
        "id": "clATuC3cwwPI",
        "colab": {
          "base_uri": "https://localhost:8080/"
        },
        "outputId": "e96bd94a-6538-4d4c-98b6-ed0ed00dddac"
      },
      "execution_count": null,
      "outputs": [
        {
          "output_type": "stream",
          "name": "stdout",
          "text": [
            "painting\n",
            "sketches\n"
          ]
        }
      ]
    },
    {
      "cell_type": "markdown",
      "source": [
        "4.Write a Python program to find the length of the last word in a sentence.\n",
        "\n",
        "input : this is the most beautiful beach I ever visited"
      ],
      "metadata": {
        "id": "-QhCplQjvn0w"
      }
    },
    {
      "cell_type": "code",
      "source": [
        "# write your code here\n",
        "str = \"this is the most beautiful beach I ever visited\"\n",
        "str = str.split()\n",
        "print(str[-1])"
      ],
      "metadata": {
        "id": "QwzbahlkxGZ-",
        "colab": {
          "base_uri": "https://localhost:8080/"
        },
        "outputId": "42296bb0-2c10-49b7-d447-d8cee1b8c42a"
      },
      "execution_count": null,
      "outputs": [
        {
          "output_type": "stream",
          "name": "stdout",
          "text": [
            "visited\n"
          ]
        }
      ]
    },
    {
      "cell_type": "markdown",
      "source": [
        "5.Write a Python program to find the second most frequent character in a string.\n",
        "\n",
        "input: the hospital is very big and this hospital has so many doctors"
      ],
      "metadata": {
        "id": "cZiXxZhsvn6q"
      }
    },
    {
      "cell_type": "code",
      "source": [
        "# write your code here\n",
        "\n",
        "NO_OF_CHARS = 256\n",
        "count = [0] * NO_OF_CHARS\n",
        "for i in range(len(str)):\n",
        "  count[ord(str[i])] += 1\n",
        "  first, second = 0, 0\n",
        "  for i in range(NO_OF_CHARS):\n",
        "        if count[i] > count[first]:\n",
        "            second = first\n",
        "            first = i\n",
        "        elif count[i] > count[second] and count[i] != count[first]:\n",
        "            second = i\n",
        "print(chr(second))"
      ],
      "metadata": {
        "id": "EnHquuoCxi7F",
        "colab": {
          "base_uri": "https://localhost:8080/"
        },
        "outputId": "4ec560a9-328e-4946-c0cc-bc03bb81db0d"
      },
      "execution_count": null,
      "outputs": [
        {
          "output_type": "stream",
          "name": "stdout",
          "text": [
            "s\n"
          ]
        }
      ]
    }
  ]
}