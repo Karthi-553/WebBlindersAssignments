{
  "nbformat": 4,
  "nbformat_minor": 0,
  "metadata": {
    "colab": {
      "provenance": []
    },
    "kernelspec": {
      "name": "python3",
      "display_name": "Python 3"
    },
    "language_info": {
      "name": "python"
    }
  },
  "cells": [
    {
      "cell_type": "markdown",
      "source": [
        "1.Write a Python program to count the number of vowels in a string.\n",
        "\n",
        "input : hasdfgeuionhjl"
      ],
      "metadata": {
        "id": "q8RkYTES1QUW"
      }
    },
    {
      "cell_type": "code",
      "source": [
        "# write your code here\n",
        "# write your code here\n",
        "str = \"hasdfgeuionhjl\"\n",
        "vowels = \"aeiouAEIOU\"\n",
        "count = 0;\n",
        "for char in str:\n",
        "    if char in vowels:\n",
        "        count += 1;\n",
        "print(count)"
      ],
      "metadata": {
        "id": "UHi6ezjV1X0s",
        "colab": {
          "base_uri": "https://localhost:8080/"
        },
        "outputId": "067ab974-23cd-43cb-b294-b28a511d34ee"
      },
      "execution_count": null,
      "outputs": [
        {
          "output_type": "stream",
          "name": "stdout",
          "text": [
            "5\n"
          ]
        }
      ]
    },
    {
      "cell_type": "markdown",
      "source": [
        "2.Write a Python program to count the occurrences of each word in a sentence.\n",
        "\n",
        "input : hi hello hi and and hi more and more programming"
      ],
      "metadata": {
        "id": "v7GBEK161QWy"
      }
    },
    {
      "cell_type": "code",
      "source": [
        "# write your code here\n",
        "str = \"hi hello hi and and hi more and more programming\"\n",
        "words = str.split()\n",
        "word_count = {}\n",
        "for word in words:\n",
        "    if word in word_count:\n",
        "        word_count[word] += 1\n",
        "    else:\n",
        "        word_count[word] = 1\n",
        "for word, count in word_count.items():\n",
        "    print(f\"{word}: {count}\")"
      ],
      "metadata": {
        "id": "R-UzDybK1uZo",
        "colab": {
          "base_uri": "https://localhost:8080/"
        },
        "outputId": "dc9eb5bc-6aee-46ab-9e95-5e491aa19f19"
      },
      "execution_count": null,
      "outputs": [
        {
          "output_type": "stream",
          "name": "stdout",
          "text": [
            "hi: 3\n",
            "hello: 1\n",
            "and: 3\n",
            "more: 2\n",
            "programming: 1\n"
          ]
        }
      ]
    },
    {
      "cell_type": "markdown",
      "source": [
        "3.In python how can you differentiate strings and lists. Give atleast 5 different comparisons between them."
      ],
      "metadata": {
        "id": "evCcw-0H1QY9"
      }
    },
    {
      "cell_type": "markdown",
      "source": [
        "Answer:Here are 5 key comparisons between strings and lists in Python:\n",
        "\n",
        "1. Type\n",
        "String: A string is a sequence of characters enclosed in quotes (\"\" or '').\n",
        "List: A list is a collection of items (which can be of any data type) enclosed in square brackets ([]).\n",
        "python\n",
        "Copy\n",
        "s = \"hello\"  # String\n",
        "l = [1, 2, 3]  # List\n",
        "2. Mutability\n",
        "String: Strings are immutable, meaning you cannot change their content once created.\n",
        "List: Lists are mutable, meaning you can modify their content after creation.\n",
        "python\n",
        "Copy\n",
        "s = \"hello\"\n",
        "# s[0] = \"H\"  # Raises an error\n",
        "\n",
        "l = [1, 2, 3]\n",
        "l[0] = 10  # Modifies the list\n",
        "print(l)  # [10, 2, 3]\n",
        "3. Element Types\n",
        "String: Strings only contain characters.\n",
        "List: Lists can hold elements of any data type (e.g., integers, floats, strings, or even other lists).\n",
        "python\n",
        "Copy\n",
        "s = \"hello\"\n",
        "l = [1, \"world\", 3.5]\n",
        "4. Iteration\n",
        "String: Iterating over a string processes each character one at a time.\n",
        "List: Iterating over a list processes each element, regardless of type.\n",
        "python\n",
        "Copy\n",
        "s = \"abc\"\n",
        "for char in s:\n",
        "    print(char)  # Prints: a, b, c\n",
        "\n",
        "l = [1, \"b\", 3.0]\n",
        "for item in l:\n",
        "    print(item)  # Prints: 1, b, 3.0\n",
        "5. Built-in Methods\n",
        "String: Strings have methods specifically for text manipulation, such as .upper(), .split(), .replace(), etc.\n",
        "List: Lists have methods for modifying their structure, such as .append(), .extend(), .pop(), etc.\n",
        "python\n",
        "Copy\n",
        "s = \"hello\"\n",
        "print(s.upper())  # HELLO\n",
        "\n",
        "l = [1, 2, 3]\n",
        "l.append(4)\n",
        "print(l)  # [1, 2, 3, 4]"
      ],
      "metadata": {
        "id": "OfiTI0pv1QbU"
      }
    },
    {
      "cell_type": "markdown",
      "source": [
        "4.Write a string for your own of approximately 40 in length and perform any 5 different string operations on that."
      ],
      "metadata": {
        "id": "riR1PWxG1Qdq"
      }
    },
    {
      "cell_type": "code",
      "source": [
        "#Write your code here\n",
        "my_string = \"Python programming is fun and powerful!\"\n",
        "#Convert to Lowercase\n",
        "result = my_string.lower()\n",
        "print(result)\n",
        "#Count the Occurrences of a Character\n",
        "result = my_string.count(\"o\")\n",
        "print(result)\n",
        "#Check if the String Starts with a Substring\n",
        "result = my_string.startswith(\"Python\")\n",
        "print(result)\n",
        "#Get a Substring Using Slicing\n",
        "result = my_string[7:18]\n",
        "print(result)\n",
        "#Remove All Spaces\n",
        "result = my_string.replace(\" \", \"\")\n",
        "print(result)\n"
      ],
      "metadata": {
        "id": "3bHyrDS12e8i",
        "colab": {
          "base_uri": "https://localhost:8080/"
        },
        "outputId": "6e8556d1-e3c8-4f1f-8c01-8bde534c0ea8"
      },
      "execution_count": 1,
      "outputs": [
        {
          "output_type": "stream",
          "name": "stdout",
          "text": [
            "python programming is fun and powerful!\n",
            "3\n",
            "True\n",
            "programming\n",
            "Pythonprogrammingisfunandpowerful!\n"
          ]
        }
      ]
    },
    {
      "cell_type": "markdown",
      "source": [
        "5.Explain the concatination in strings with a neat example."
      ],
      "metadata": {
        "id": "bbUm7VVN1Qfu"
      }
    },
    {
      "cell_type": "code",
      "source": [
        "#write your code and explanation here\n",
        "# Strings to concatenate\n",
        "string1 = \"Python\"\n",
        "string2 = \"is\"\n",
        "string3 = \"awesome!\"\n",
        "# Concatenating the strings\n",
        "result = string1 + \" \" + string2 + \" \" + string3\n",
        "print(result)\n",
        "#join()\n",
        "words = [\"Python\", \"is\", \"fun\"]\n",
        "result = \" \".join(words)\n",
        "print(result)"
      ],
      "metadata": {
        "id": "y9292Q452tF0",
        "colab": {
          "base_uri": "https://localhost:8080/"
        },
        "outputId": "21d21b6b-750d-498f-832e-8ad0c4559761"
      },
      "execution_count": 2,
      "outputs": [
        {
          "output_type": "stream",
          "name": "stdout",
          "text": [
            "Python is awesome!\n",
            "Python is fun\n"
          ]
        }
      ]
    }
  ]
}